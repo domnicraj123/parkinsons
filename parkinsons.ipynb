{
 "cells": [
  {
   "cell_type": "markdown",
   "metadata": {},
   "source": [
    "## Reading the Dataset"
   ]
  },
  {
   "cell_type": "code",
   "execution_count": 1,
   "metadata": {},
   "outputs": [],
   "source": [
    "df <- read.csv('parkinson.csv')"
   ]
  },
  {
   "cell_type": "markdown",
   "metadata": {},
   "source": [
    "## Uderstanding the Data"
   ]
  },
  {
   "cell_type": "code",
   "execution_count": 2,
   "metadata": {},
   "outputs": [
    {
     "data": {
      "text/html": [
       "<table>\n",
       "<thead><tr><th scope=col>name</th><th scope=col>MDVP.Fo.Hz.</th><th scope=col>MDVP.Fhi.Hz.</th><th scope=col>MDVP.Flo.Hz.</th><th scope=col>MDVP.Jitter...</th><th scope=col>MDVP.Jitter.Abs.</th><th scope=col>MDVP.RAP</th><th scope=col>MDVP.PPQ</th><th scope=col>Jitter.DDP</th><th scope=col>MDVP.Shimmer</th><th scope=col>...</th><th scope=col>Shimmer.DDA</th><th scope=col>NHR</th><th scope=col>HNR</th><th scope=col>status</th><th scope=col>RPDE</th><th scope=col>DFA</th><th scope=col>spread1</th><th scope=col>spread2</th><th scope=col>D2</th><th scope=col>PPE</th></tr></thead>\n",
       "<tbody>\n",
       "\t<tr><td>phon_R01_S01_1</td><td>119.992       </td><td>157.302       </td><td> 74.997       </td><td>0.00784       </td><td>0.00007       </td><td>0.00370       </td><td>0.00554       </td><td>0.01109       </td><td>0.04374       </td><td>...           </td><td>0.06545       </td><td>0.02211       </td><td>21.033        </td><td>1             </td><td>0.414783      </td><td>0.815285      </td><td>-4.813031     </td><td>0.266482      </td><td>2.301442      </td><td>0.284654      </td></tr>\n",
       "\t<tr><td>phon_R01_S01_2</td><td>122.400       </td><td>148.650       </td><td>113.819       </td><td>0.00968       </td><td>0.00008       </td><td>0.00465       </td><td>0.00696       </td><td>0.01394       </td><td>0.06134       </td><td>...           </td><td>0.09403       </td><td>0.01929       </td><td>19.085        </td><td>1             </td><td>0.458359      </td><td>0.819521      </td><td>-4.075192     </td><td>0.335590      </td><td>2.486855      </td><td>0.368674      </td></tr>\n",
       "\t<tr><td>phon_R01_S01_3</td><td>116.682       </td><td>131.111       </td><td>111.555       </td><td>0.01050       </td><td>0.00009       </td><td>0.00544       </td><td>0.00781       </td><td>0.01633       </td><td>0.05233       </td><td>...           </td><td>0.08270       </td><td>0.01309       </td><td>20.651        </td><td>1             </td><td>0.429895      </td><td>0.825288      </td><td>-4.443179     </td><td>0.311173      </td><td>2.342259      </td><td>0.332634      </td></tr>\n",
       "\t<tr><td>phon_R01_S01_4</td><td>116.676       </td><td>137.871       </td><td>111.366       </td><td>0.00997       </td><td>0.00009       </td><td>0.00502       </td><td>0.00698       </td><td>0.01505       </td><td>0.05492       </td><td>...           </td><td>0.08771       </td><td>0.01353       </td><td>20.644        </td><td>1             </td><td>0.434969      </td><td>0.819235      </td><td>-4.117501     </td><td>0.334147      </td><td>2.405554      </td><td>0.368975      </td></tr>\n",
       "\t<tr><td>phon_R01_S01_5</td><td>116.014       </td><td>141.781       </td><td>110.655       </td><td>0.01284       </td><td>0.00011       </td><td>0.00655       </td><td>0.00908       </td><td>0.01966       </td><td>0.06425       </td><td>...           </td><td>0.10470       </td><td>0.01767       </td><td>19.649        </td><td>1             </td><td>0.417356      </td><td>0.823484      </td><td>-3.747787     </td><td>0.234513      </td><td>2.332180      </td><td>0.410335      </td></tr>\n",
       "</tbody>\n",
       "</table>\n"
      ],
      "text/latex": [
       "\\begin{tabular}{r|llllllllllllllllllllllll}\n",
       " name & MDVP.Fo.Hz. & MDVP.Fhi.Hz. & MDVP.Flo.Hz. & MDVP.Jitter... & MDVP.Jitter.Abs. & MDVP.RAP & MDVP.PPQ & Jitter.DDP & MDVP.Shimmer & ... & Shimmer.DDA & NHR & HNR & status & RPDE & DFA & spread1 & spread2 & D2 & PPE\\\\\n",
       "\\hline\n",
       "\t phon\\_R01\\_S01\\_1 & 119.992              & 157.302              &  74.997              & 0.00784              & 0.00007              & 0.00370              & 0.00554              & 0.01109              & 0.04374              & ...                  & 0.06545              & 0.02211              & 21.033               & 1                    & 0.414783             & 0.815285             & -4.813031            & 0.266482             & 2.301442             & 0.284654            \\\\\n",
       "\t phon\\_R01\\_S01\\_2 & 122.400              & 148.650              & 113.819              & 0.00968              & 0.00008              & 0.00465              & 0.00696              & 0.01394              & 0.06134              & ...                  & 0.09403              & 0.01929              & 19.085               & 1                    & 0.458359             & 0.819521             & -4.075192            & 0.335590             & 2.486855             & 0.368674            \\\\\n",
       "\t phon\\_R01\\_S01\\_3 & 116.682              & 131.111              & 111.555              & 0.01050              & 0.00009              & 0.00544              & 0.00781              & 0.01633              & 0.05233              & ...                  & 0.08270              & 0.01309              & 20.651               & 1                    & 0.429895             & 0.825288             & -4.443179            & 0.311173             & 2.342259             & 0.332634            \\\\\n",
       "\t phon\\_R01\\_S01\\_4 & 116.676              & 137.871              & 111.366              & 0.00997              & 0.00009              & 0.00502              & 0.00698              & 0.01505              & 0.05492              & ...                  & 0.08771              & 0.01353              & 20.644               & 1                    & 0.434969             & 0.819235             & -4.117501            & 0.334147             & 2.405554             & 0.368975            \\\\\n",
       "\t phon\\_R01\\_S01\\_5 & 116.014              & 141.781              & 110.655              & 0.01284              & 0.00011              & 0.00655              & 0.00908              & 0.01966              & 0.06425              & ...                  & 0.10470              & 0.01767              & 19.649               & 1                    & 0.417356             & 0.823484             & -3.747787            & 0.234513             & 2.332180             & 0.410335            \\\\\n",
       "\\end{tabular}\n"
      ],
      "text/markdown": [
       "\n",
       "| name | MDVP.Fo.Hz. | MDVP.Fhi.Hz. | MDVP.Flo.Hz. | MDVP.Jitter... | MDVP.Jitter.Abs. | MDVP.RAP | MDVP.PPQ | Jitter.DDP | MDVP.Shimmer | ... | Shimmer.DDA | NHR | HNR | status | RPDE | DFA | spread1 | spread2 | D2 | PPE |\n",
       "|---|---|---|---|---|---|---|---|---|---|---|---|---|---|---|---|---|---|---|---|---|\n",
       "| phon_R01_S01_1 | 119.992        | 157.302        |  74.997        | 0.00784        | 0.00007        | 0.00370        | 0.00554        | 0.01109        | 0.04374        | ...            | 0.06545        | 0.02211        | 21.033         | 1              | 0.414783       | 0.815285       | -4.813031      | 0.266482       | 2.301442       | 0.284654       |\n",
       "| phon_R01_S01_2 | 122.400        | 148.650        | 113.819        | 0.00968        | 0.00008        | 0.00465        | 0.00696        | 0.01394        | 0.06134        | ...            | 0.09403        | 0.01929        | 19.085         | 1              | 0.458359       | 0.819521       | -4.075192      | 0.335590       | 2.486855       | 0.368674       |\n",
       "| phon_R01_S01_3 | 116.682        | 131.111        | 111.555        | 0.01050        | 0.00009        | 0.00544        | 0.00781        | 0.01633        | 0.05233        | ...            | 0.08270        | 0.01309        | 20.651         | 1              | 0.429895       | 0.825288       | -4.443179      | 0.311173       | 2.342259       | 0.332634       |\n",
       "| phon_R01_S01_4 | 116.676        | 137.871        | 111.366        | 0.00997        | 0.00009        | 0.00502        | 0.00698        | 0.01505        | 0.05492        | ...            | 0.08771        | 0.01353        | 20.644         | 1              | 0.434969       | 0.819235       | -4.117501      | 0.334147       | 2.405554       | 0.368975       |\n",
       "| phon_R01_S01_5 | 116.014        | 141.781        | 110.655        | 0.01284        | 0.00011        | 0.00655        | 0.00908        | 0.01966        | 0.06425        | ...            | 0.10470        | 0.01767        | 19.649         | 1              | 0.417356       | 0.823484       | -3.747787      | 0.234513       | 2.332180       | 0.410335       |\n",
       "\n"
      ],
      "text/plain": [
       "  name           MDVP.Fo.Hz. MDVP.Fhi.Hz. MDVP.Flo.Hz. MDVP.Jitter...\n",
       "1 phon_R01_S01_1 119.992     157.302       74.997      0.00784       \n",
       "2 phon_R01_S01_2 122.400     148.650      113.819      0.00968       \n",
       "3 phon_R01_S01_3 116.682     131.111      111.555      0.01050       \n",
       "4 phon_R01_S01_4 116.676     137.871      111.366      0.00997       \n",
       "5 phon_R01_S01_5 116.014     141.781      110.655      0.01284       \n",
       "  MDVP.Jitter.Abs. MDVP.RAP MDVP.PPQ Jitter.DDP MDVP.Shimmer ... Shimmer.DDA\n",
       "1 0.00007          0.00370  0.00554  0.01109    0.04374      ... 0.06545    \n",
       "2 0.00008          0.00465  0.00696  0.01394    0.06134      ... 0.09403    \n",
       "3 0.00009          0.00544  0.00781  0.01633    0.05233      ... 0.08270    \n",
       "4 0.00009          0.00502  0.00698  0.01505    0.05492      ... 0.08771    \n",
       "5 0.00011          0.00655  0.00908  0.01966    0.06425      ... 0.10470    \n",
       "  NHR     HNR    status RPDE     DFA      spread1   spread2  D2       PPE     \n",
       "1 0.02211 21.033 1      0.414783 0.815285 -4.813031 0.266482 2.301442 0.284654\n",
       "2 0.01929 19.085 1      0.458359 0.819521 -4.075192 0.335590 2.486855 0.368674\n",
       "3 0.01309 20.651 1      0.429895 0.825288 -4.443179 0.311173 2.342259 0.332634\n",
       "4 0.01353 20.644 1      0.434969 0.819235 -4.117501 0.334147 2.405554 0.368975\n",
       "5 0.01767 19.649 1      0.417356 0.823484 -3.747787 0.234513 2.332180 0.410335"
      ]
     },
     "metadata": {},
     "output_type": "display_data"
    }
   ],
   "source": [
    "head(df,5)"
   ]
  },
  {
   "cell_type": "code",
   "execution_count": 3,
   "metadata": {},
   "outputs": [
    {
     "data": {
      "text/html": [
       "<table>\n",
       "<thead><tr><th></th><th scope=col>name</th><th scope=col>MDVP.Fo.Hz.</th><th scope=col>MDVP.Fhi.Hz.</th><th scope=col>MDVP.Flo.Hz.</th><th scope=col>MDVP.Jitter...</th><th scope=col>MDVP.Jitter.Abs.</th><th scope=col>MDVP.RAP</th><th scope=col>MDVP.PPQ</th><th scope=col>Jitter.DDP</th><th scope=col>MDVP.Shimmer</th><th scope=col>...</th><th scope=col>Shimmer.DDA</th><th scope=col>NHR</th><th scope=col>HNR</th><th scope=col>status</th><th scope=col>RPDE</th><th scope=col>DFA</th><th scope=col>spread1</th><th scope=col>spread2</th><th scope=col>D2</th><th scope=col>PPE</th></tr></thead>\n",
       "<tbody>\n",
       "\t<tr><th scope=row>191</th><td>phon_R01_S50_2</td><td>174.188       </td><td>230.978       </td><td>94.261        </td><td>0.00459       </td><td>3e-05         </td><td>0.00263       </td><td>0.00259       </td><td>0.00790       </td><td>0.04087       </td><td>...           </td><td>0.07008       </td><td>0.02764       </td><td>19.517        </td><td>0             </td><td>0.448439      </td><td>0.657899      </td><td>-6.538586     </td><td>0.121952      </td><td>2.657476      </td><td>0.133050      </td></tr>\n",
       "\t<tr><th scope=row>192</th><td>phon_R01_S50_3</td><td>209.516       </td><td>253.017       </td><td>89.488        </td><td>0.00564       </td><td>3e-05         </td><td>0.00331       </td><td>0.00292       </td><td>0.00994       </td><td>0.02751       </td><td>...           </td><td>0.04812       </td><td>0.01810       </td><td>19.147        </td><td>0             </td><td>0.431674      </td><td>0.683244      </td><td>-6.195325     </td><td>0.129303      </td><td>2.784312      </td><td>0.168895      </td></tr>\n",
       "\t<tr><th scope=row>193</th><td>phon_R01_S50_4</td><td>174.688       </td><td>240.005       </td><td>74.287        </td><td>0.01360       </td><td>8e-05         </td><td>0.00624       </td><td>0.00564       </td><td>0.01873       </td><td>0.02308       </td><td>...           </td><td>0.03804       </td><td>0.10715       </td><td>17.883        </td><td>0             </td><td>0.407567      </td><td>0.655683      </td><td>-6.787197     </td><td>0.158453      </td><td>2.679772      </td><td>0.131728      </td></tr>\n",
       "\t<tr><th scope=row>194</th><td>phon_R01_S50_5</td><td>198.764       </td><td>396.961       </td><td>74.904        </td><td>0.00740       </td><td>4e-05         </td><td>0.00370       </td><td>0.00390       </td><td>0.01109       </td><td>0.02296       </td><td>...           </td><td>0.03794       </td><td>0.07223       </td><td>19.020        </td><td>0             </td><td>0.451221      </td><td>0.643956      </td><td>-6.744577     </td><td>0.207454      </td><td>2.138608      </td><td>0.123306      </td></tr>\n",
       "\t<tr><th scope=row>195</th><td>phon_R01_S50_6</td><td>214.289       </td><td>260.277       </td><td>77.973        </td><td>0.00567       </td><td>3e-05         </td><td>0.00295       </td><td>0.00317       </td><td>0.00885       </td><td>0.01884       </td><td>...           </td><td>0.03078       </td><td>0.04398       </td><td>21.209        </td><td>0             </td><td>0.462803      </td><td>0.664357      </td><td>-5.724056     </td><td>0.190667      </td><td>2.555477      </td><td>0.148569      </td></tr>\n",
       "</tbody>\n",
       "</table>\n"
      ],
      "text/latex": [
       "\\begin{tabular}{r|llllllllllllllllllllllll}\n",
       "  & name & MDVP.Fo.Hz. & MDVP.Fhi.Hz. & MDVP.Flo.Hz. & MDVP.Jitter... & MDVP.Jitter.Abs. & MDVP.RAP & MDVP.PPQ & Jitter.DDP & MDVP.Shimmer & ... & Shimmer.DDA & NHR & HNR & status & RPDE & DFA & spread1 & spread2 & D2 & PPE\\\\\n",
       "\\hline\n",
       "\t191 & phon\\_R01\\_S50\\_2 & 174.188              & 230.978              & 94.261               & 0.00459              & 3e-05                & 0.00263              & 0.00259              & 0.00790              & 0.04087              & ...                  & 0.07008              & 0.02764              & 19.517               & 0                    & 0.448439             & 0.657899             & -6.538586            & 0.121952             & 2.657476             & 0.133050            \\\\\n",
       "\t192 & phon\\_R01\\_S50\\_3 & 209.516              & 253.017              & 89.488               & 0.00564              & 3e-05                & 0.00331              & 0.00292              & 0.00994              & 0.02751              & ...                  & 0.04812              & 0.01810              & 19.147               & 0                    & 0.431674             & 0.683244             & -6.195325            & 0.129303             & 2.784312             & 0.168895            \\\\\n",
       "\t193 & phon\\_R01\\_S50\\_4 & 174.688              & 240.005              & 74.287               & 0.01360              & 8e-05                & 0.00624              & 0.00564              & 0.01873              & 0.02308              & ...                  & 0.03804              & 0.10715              & 17.883               & 0                    & 0.407567             & 0.655683             & -6.787197            & 0.158453             & 2.679772             & 0.131728            \\\\\n",
       "\t194 & phon\\_R01\\_S50\\_5 & 198.764              & 396.961              & 74.904               & 0.00740              & 4e-05                & 0.00370              & 0.00390              & 0.01109              & 0.02296              & ...                  & 0.03794              & 0.07223              & 19.020               & 0                    & 0.451221             & 0.643956             & -6.744577            & 0.207454             & 2.138608             & 0.123306            \\\\\n",
       "\t195 & phon\\_R01\\_S50\\_6 & 214.289              & 260.277              & 77.973               & 0.00567              & 3e-05                & 0.00295              & 0.00317              & 0.00885              & 0.01884              & ...                  & 0.03078              & 0.04398              & 21.209               & 0                    & 0.462803             & 0.664357             & -5.724056            & 0.190667             & 2.555477             & 0.148569            \\\\\n",
       "\\end{tabular}\n"
      ],
      "text/markdown": [
       "\n",
       "| <!--/--> | name | MDVP.Fo.Hz. | MDVP.Fhi.Hz. | MDVP.Flo.Hz. | MDVP.Jitter... | MDVP.Jitter.Abs. | MDVP.RAP | MDVP.PPQ | Jitter.DDP | MDVP.Shimmer | ... | Shimmer.DDA | NHR | HNR | status | RPDE | DFA | spread1 | spread2 | D2 | PPE |\n",
       "|---|---|---|---|---|---|---|---|---|---|---|---|---|---|---|---|---|---|---|---|---|---|\n",
       "| 191 | phon_R01_S50_2 | 174.188        | 230.978        | 94.261         | 0.00459        | 3e-05          | 0.00263        | 0.00259        | 0.00790        | 0.04087        | ...            | 0.07008        | 0.02764        | 19.517         | 0              | 0.448439       | 0.657899       | -6.538586      | 0.121952       | 2.657476       | 0.133050       |\n",
       "| 192 | phon_R01_S50_3 | 209.516        | 253.017        | 89.488         | 0.00564        | 3e-05          | 0.00331        | 0.00292        | 0.00994        | 0.02751        | ...            | 0.04812        | 0.01810        | 19.147         | 0              | 0.431674       | 0.683244       | -6.195325      | 0.129303       | 2.784312       | 0.168895       |\n",
       "| 193 | phon_R01_S50_4 | 174.688        | 240.005        | 74.287         | 0.01360        | 8e-05          | 0.00624        | 0.00564        | 0.01873        | 0.02308        | ...            | 0.03804        | 0.10715        | 17.883         | 0              | 0.407567       | 0.655683       | -6.787197      | 0.158453       | 2.679772       | 0.131728       |\n",
       "| 194 | phon_R01_S50_5 | 198.764        | 396.961        | 74.904         | 0.00740        | 4e-05          | 0.00370        | 0.00390        | 0.01109        | 0.02296        | ...            | 0.03794        | 0.07223        | 19.020         | 0              | 0.451221       | 0.643956       | -6.744577      | 0.207454       | 2.138608       | 0.123306       |\n",
       "| 195 | phon_R01_S50_6 | 214.289        | 260.277        | 77.973         | 0.00567        | 3e-05          | 0.00295        | 0.00317        | 0.00885        | 0.01884        | ...            | 0.03078        | 0.04398        | 21.209         | 0              | 0.462803       | 0.664357       | -5.724056      | 0.190667       | 2.555477       | 0.148569       |\n",
       "\n"
      ],
      "text/plain": [
       "    name           MDVP.Fo.Hz. MDVP.Fhi.Hz. MDVP.Flo.Hz. MDVP.Jitter...\n",
       "191 phon_R01_S50_2 174.188     230.978      94.261       0.00459       \n",
       "192 phon_R01_S50_3 209.516     253.017      89.488       0.00564       \n",
       "193 phon_R01_S50_4 174.688     240.005      74.287       0.01360       \n",
       "194 phon_R01_S50_5 198.764     396.961      74.904       0.00740       \n",
       "195 phon_R01_S50_6 214.289     260.277      77.973       0.00567       \n",
       "    MDVP.Jitter.Abs. MDVP.RAP MDVP.PPQ Jitter.DDP MDVP.Shimmer ... Shimmer.DDA\n",
       "191 3e-05            0.00263  0.00259  0.00790    0.04087      ... 0.07008    \n",
       "192 3e-05            0.00331  0.00292  0.00994    0.02751      ... 0.04812    \n",
       "193 8e-05            0.00624  0.00564  0.01873    0.02308      ... 0.03804    \n",
       "194 4e-05            0.00370  0.00390  0.01109    0.02296      ... 0.03794    \n",
       "195 3e-05            0.00295  0.00317  0.00885    0.01884      ... 0.03078    \n",
       "    NHR     HNR    status RPDE     DFA      spread1   spread2  D2      \n",
       "191 0.02764 19.517 0      0.448439 0.657899 -6.538586 0.121952 2.657476\n",
       "192 0.01810 19.147 0      0.431674 0.683244 -6.195325 0.129303 2.784312\n",
       "193 0.10715 17.883 0      0.407567 0.655683 -6.787197 0.158453 2.679772\n",
       "194 0.07223 19.020 0      0.451221 0.643956 -6.744577 0.207454 2.138608\n",
       "195 0.04398 21.209 0      0.462803 0.664357 -5.724056 0.190667 2.555477\n",
       "    PPE     \n",
       "191 0.133050\n",
       "192 0.168895\n",
       "193 0.131728\n",
       "194 0.123306\n",
       "195 0.148569"
      ]
     },
     "metadata": {},
     "output_type": "display_data"
    }
   ],
   "source": [
    "tail(df,5)"
   ]
  },
  {
   "cell_type": "code",
   "execution_count": 4,
   "metadata": {},
   "outputs": [
    {
     "data": {
      "text/html": [
       "195"
      ],
      "text/latex": [
       "195"
      ],
      "text/markdown": [
       "195"
      ],
      "text/plain": [
       "[1] 195"
      ]
     },
     "metadata": {},
     "output_type": "display_data"
    }
   ],
   "source": [
    "nrow(df)"
   ]
  },
  {
   "cell_type": "code",
   "execution_count": 5,
   "metadata": {},
   "outputs": [
    {
     "data": {
      "text/html": [
       "24"
      ],
      "text/latex": [
       "24"
      ],
      "text/markdown": [
       "24"
      ],
      "text/plain": [
       "[1] 24"
      ]
     },
     "metadata": {},
     "output_type": "display_data"
    }
   ],
   "source": [
    "ncol(df)"
   ]
  },
  {
   "cell_type": "code",
   "execution_count": 6,
   "metadata": {},
   "outputs": [
    {
     "data": {
      "text/html": [
       "<ol class=list-inline>\n",
       "\t<li>'name'</li>\n",
       "\t<li>'MDVP.Fo.Hz.'</li>\n",
       "\t<li>'MDVP.Fhi.Hz.'</li>\n",
       "\t<li>'MDVP.Flo.Hz.'</li>\n",
       "\t<li>'MDVP.Jitter...'</li>\n",
       "\t<li>'MDVP.Jitter.Abs.'</li>\n",
       "\t<li>'MDVP.RAP'</li>\n",
       "\t<li>'MDVP.PPQ'</li>\n",
       "\t<li>'Jitter.DDP'</li>\n",
       "\t<li>'MDVP.Shimmer'</li>\n",
       "\t<li>'MDVP.Shimmer.dB.'</li>\n",
       "\t<li>'Shimmer.APQ3'</li>\n",
       "\t<li>'Shimmer.APQ5'</li>\n",
       "\t<li>'MDVP.APQ'</li>\n",
       "\t<li>'Shimmer.DDA'</li>\n",
       "\t<li>'NHR'</li>\n",
       "\t<li>'HNR'</li>\n",
       "\t<li>'status'</li>\n",
       "\t<li>'RPDE'</li>\n",
       "\t<li>'DFA'</li>\n",
       "\t<li>'spread1'</li>\n",
       "\t<li>'spread2'</li>\n",
       "\t<li>'D2'</li>\n",
       "\t<li>'PPE'</li>\n",
       "</ol>\n"
      ],
      "text/latex": [
       "\\begin{enumerate*}\n",
       "\\item 'name'\n",
       "\\item 'MDVP.Fo.Hz.'\n",
       "\\item 'MDVP.Fhi.Hz.'\n",
       "\\item 'MDVP.Flo.Hz.'\n",
       "\\item 'MDVP.Jitter...'\n",
       "\\item 'MDVP.Jitter.Abs.'\n",
       "\\item 'MDVP.RAP'\n",
       "\\item 'MDVP.PPQ'\n",
       "\\item 'Jitter.DDP'\n",
       "\\item 'MDVP.Shimmer'\n",
       "\\item 'MDVP.Shimmer.dB.'\n",
       "\\item 'Shimmer.APQ3'\n",
       "\\item 'Shimmer.APQ5'\n",
       "\\item 'MDVP.APQ'\n",
       "\\item 'Shimmer.DDA'\n",
       "\\item 'NHR'\n",
       "\\item 'HNR'\n",
       "\\item 'status'\n",
       "\\item 'RPDE'\n",
       "\\item 'DFA'\n",
       "\\item 'spread1'\n",
       "\\item 'spread2'\n",
       "\\item 'D2'\n",
       "\\item 'PPE'\n",
       "\\end{enumerate*}\n"
      ],
      "text/markdown": [
       "1. 'name'\n",
       "2. 'MDVP.Fo.Hz.'\n",
       "3. 'MDVP.Fhi.Hz.'\n",
       "4. 'MDVP.Flo.Hz.'\n",
       "5. 'MDVP.Jitter...'\n",
       "6. 'MDVP.Jitter.Abs.'\n",
       "7. 'MDVP.RAP'\n",
       "8. 'MDVP.PPQ'\n",
       "9. 'Jitter.DDP'\n",
       "10. 'MDVP.Shimmer'\n",
       "11. 'MDVP.Shimmer.dB.'\n",
       "12. 'Shimmer.APQ3'\n",
       "13. 'Shimmer.APQ5'\n",
       "14. 'MDVP.APQ'\n",
       "15. 'Shimmer.DDA'\n",
       "16. 'NHR'\n",
       "17. 'HNR'\n",
       "18. 'status'\n",
       "19. 'RPDE'\n",
       "20. 'DFA'\n",
       "21. 'spread1'\n",
       "22. 'spread2'\n",
       "23. 'D2'\n",
       "24. 'PPE'\n",
       "\n",
       "\n"
      ],
      "text/plain": [
       " [1] \"name\"             \"MDVP.Fo.Hz.\"      \"MDVP.Fhi.Hz.\"     \"MDVP.Flo.Hz.\"    \n",
       " [5] \"MDVP.Jitter...\"   \"MDVP.Jitter.Abs.\" \"MDVP.RAP\"         \"MDVP.PPQ\"        \n",
       " [9] \"Jitter.DDP\"       \"MDVP.Shimmer\"     \"MDVP.Shimmer.dB.\" \"Shimmer.APQ3\"    \n",
       "[13] \"Shimmer.APQ5\"     \"MDVP.APQ\"         \"Shimmer.DDA\"      \"NHR\"             \n",
       "[17] \"HNR\"              \"status\"           \"RPDE\"             \"DFA\"             \n",
       "[21] \"spread1\"          \"spread2\"          \"D2\"               \"PPE\"             "
      ]
     },
     "metadata": {},
     "output_type": "display_data"
    }
   ],
   "source": [
    "colnames(df)"
   ]
  },
  {
   "cell_type": "code",
   "execution_count": 7,
   "metadata": {},
   "outputs": [
    {
     "name": "stdout",
     "output_type": "stream",
     "text": [
      "'data.frame':\t195 obs. of  24 variables:\n",
      " $ name            : Factor w/ 195 levels \"phon_R01_S01_1\",..: 1 2 3 4 5 6 7 8 9 10 ...\n",
      " $ MDVP.Fo.Hz.     : num  120 122 117 117 116 ...\n",
      " $ MDVP.Fhi.Hz.    : num  157 149 131 138 142 ...\n",
      " $ MDVP.Flo.Hz.    : num  75 114 112 111 111 ...\n",
      " $ MDVP.Jitter...  : num  0.00784 0.00968 0.0105 0.00997 0.01284 ...\n",
      " $ MDVP.Jitter.Abs.: num  0.00007 0.00008 0.00009 0.00009 0.00011 0.00008 0.00003 0.00003 0.00006 0.00006 ...\n",
      " $ MDVP.RAP        : num  0.0037 0.00465 0.00544 0.00502 0.00655 0.00463 0.00155 0.00144 0.00293 0.00268 ...\n",
      " $ MDVP.PPQ        : num  0.00554 0.00696 0.00781 0.00698 0.00908 0.0075 0.00202 0.00182 0.00332 0.00332 ...\n",
      " $ Jitter.DDP      : num  0.0111 0.0139 0.0163 0.015 0.0197 ...\n",
      " $ MDVP.Shimmer    : num  0.0437 0.0613 0.0523 0.0549 0.0643 ...\n",
      " $ MDVP.Shimmer.dB.: num  0.426 0.626 0.482 0.517 0.584 0.456 0.14 0.134 0.191 0.255 ...\n",
      " $ Shimmer.APQ3    : num  0.0218 0.0313 0.0276 0.0292 0.0349 ...\n",
      " $ Shimmer.APQ5    : num  0.0313 0.0452 0.0386 0.0401 0.0483 ...\n",
      " $ MDVP.APQ        : num  0.0297 0.0437 0.0359 0.0377 0.0447 ...\n",
      " $ Shimmer.DDA     : num  0.0654 0.094 0.0827 0.0877 0.1047 ...\n",
      " $ NHR             : num  0.0221 0.0193 0.0131 0.0135 0.0177 ...\n",
      " $ HNR             : num  21 19.1 20.7 20.6 19.6 ...\n",
      " $ status          : int  1 1 1 1 1 1 1 1 1 1 ...\n",
      " $ RPDE            : num  0.415 0.458 0.43 0.435 0.417 ...\n",
      " $ DFA             : num  0.815 0.82 0.825 0.819 0.823 ...\n",
      " $ spread1         : num  -4.81 -4.08 -4.44 -4.12 -3.75 ...\n",
      " $ spread2         : num  0.266 0.336 0.311 0.334 0.235 ...\n",
      " $ D2              : num  2.3 2.49 2.34 2.41 2.33 ...\n",
      " $ PPE             : num  0.285 0.369 0.333 0.369 0.41 ...\n"
     ]
    }
   ],
   "source": [
    "str(df)"
   ]
  },
  {
   "cell_type": "code",
   "execution_count": 8,
   "metadata": {},
   "outputs": [
    {
     "data": {
      "text/plain": [
       "             name      MDVP.Fo.Hz.      MDVP.Fhi.Hz.    MDVP.Flo.Hz.   \n",
       " phon_R01_S01_1:  1   Min.   : 88.33   Min.   :102.1   Min.   : 65.48  \n",
       " phon_R01_S01_2:  1   1st Qu.:117.57   1st Qu.:134.9   1st Qu.: 84.29  \n",
       " phon_R01_S01_3:  1   Median :148.79   Median :175.8   Median :104.31  \n",
       " phon_R01_S01_4:  1   Mean   :154.23   Mean   :197.1   Mean   :116.32  \n",
       " phon_R01_S01_5:  1   3rd Qu.:182.77   3rd Qu.:224.2   3rd Qu.:140.02  \n",
       " phon_R01_S01_6:  1   Max.   :260.11   Max.   :592.0   Max.   :239.17  \n",
       " (Other)       :189                                                    \n",
       " MDVP.Jitter...     MDVP.Jitter.Abs.       MDVP.RAP           MDVP.PPQ       \n",
       " Min.   :0.001680   Min.   :7.000e-06   Min.   :0.000680   Min.   :0.000920  \n",
       " 1st Qu.:0.003460   1st Qu.:2.000e-05   1st Qu.:0.001660   1st Qu.:0.001860  \n",
       " Median :0.004940   Median :3.000e-05   Median :0.002500   Median :0.002690  \n",
       " Mean   :0.006220   Mean   :4.396e-05   Mean   :0.003306   Mean   :0.003446  \n",
       " 3rd Qu.:0.007365   3rd Qu.:6.000e-05   3rd Qu.:0.003835   3rd Qu.:0.003955  \n",
       " Max.   :0.033160   Max.   :2.600e-04   Max.   :0.021440   Max.   :0.019580  \n",
       "                                                                             \n",
       "   Jitter.DDP        MDVP.Shimmer     MDVP.Shimmer.dB.  Shimmer.APQ3     \n",
       " Min.   :0.002040   Min.   :0.00954   Min.   :0.0850   Min.   :0.004550  \n",
       " 1st Qu.:0.004985   1st Qu.:0.01650   1st Qu.:0.1485   1st Qu.:0.008245  \n",
       " Median :0.007490   Median :0.02297   Median :0.2210   Median :0.012790  \n",
       " Mean   :0.009920   Mean   :0.02971   Mean   :0.2823   Mean   :0.015664  \n",
       " 3rd Qu.:0.011505   3rd Qu.:0.03789   3rd Qu.:0.3500   3rd Qu.:0.020265  \n",
       " Max.   :0.064330   Max.   :0.11908   Max.   :1.3020   Max.   :0.056470  \n",
       "                                                                         \n",
       "  Shimmer.APQ5        MDVP.APQ        Shimmer.DDA           NHR          \n",
       " Min.   :0.00570   Min.   :0.00719   Min.   :0.01364   Min.   :0.000650  \n",
       " 1st Qu.:0.00958   1st Qu.:0.01308   1st Qu.:0.02474   1st Qu.:0.005925  \n",
       " Median :0.01347   Median :0.01826   Median :0.03836   Median :0.011660  \n",
       " Mean   :0.01788   Mean   :0.02408   Mean   :0.04699   Mean   :0.024847  \n",
       " 3rd Qu.:0.02238   3rd Qu.:0.02940   3rd Qu.:0.06080   3rd Qu.:0.025640  \n",
       " Max.   :0.07940   Max.   :0.13778   Max.   :0.16942   Max.   :0.314820  \n",
       "                                                                         \n",
       "      HNR             status            RPDE             DFA        \n",
       " Min.   : 8.441   Min.   :0.0000   Min.   :0.2566   Min.   :0.5743  \n",
       " 1st Qu.:19.198   1st Qu.:1.0000   1st Qu.:0.4213   1st Qu.:0.6748  \n",
       " Median :22.085   Median :1.0000   Median :0.4960   Median :0.7223  \n",
       " Mean   :21.886   Mean   :0.7538   Mean   :0.4985   Mean   :0.7181  \n",
       " 3rd Qu.:25.076   3rd Qu.:1.0000   3rd Qu.:0.5876   3rd Qu.:0.7619  \n",
       " Max.   :33.047   Max.   :1.0000   Max.   :0.6852   Max.   :0.8253  \n",
       "                                                                    \n",
       "    spread1          spread2               D2             PPE         \n",
       " Min.   :-7.965   Min.   :0.006274   Min.   :1.423   Min.   :0.04454  \n",
       " 1st Qu.:-6.450   1st Qu.:0.174350   1st Qu.:2.099   1st Qu.:0.13745  \n",
       " Median :-5.721   Median :0.218885   Median :2.362   Median :0.19405  \n",
       " Mean   :-5.684   Mean   :0.226510   Mean   :2.382   Mean   :0.20655  \n",
       " 3rd Qu.:-5.046   3rd Qu.:0.279234   3rd Qu.:2.636   3rd Qu.:0.25298  \n",
       " Max.   :-2.434   Max.   :0.450493   Max.   :3.671   Max.   :0.52737  \n",
       "                                                                      "
      ]
     },
     "metadata": {},
     "output_type": "display_data"
    }
   ],
   "source": [
    "summary(df)"
   ]
  },
  {
   "cell_type": "code",
   "execution_count": 9,
   "metadata": {},
   "outputs": [
    {
     "data": {
      "text/html": [
       "<dl class=dl-horizontal>\n",
       "\t<dt>name</dt>\n",
       "\t\t<dd>'factor'</dd>\n",
       "\t<dt>MDVP.Fo.Hz.</dt>\n",
       "\t\t<dd>'numeric'</dd>\n",
       "\t<dt>MDVP.Fhi.Hz.</dt>\n",
       "\t\t<dd>'numeric'</dd>\n",
       "\t<dt>MDVP.Flo.Hz.</dt>\n",
       "\t\t<dd>'numeric'</dd>\n",
       "\t<dt>MDVP.Jitter...</dt>\n",
       "\t\t<dd>'numeric'</dd>\n",
       "\t<dt>MDVP.Jitter.Abs.</dt>\n",
       "\t\t<dd>'numeric'</dd>\n",
       "\t<dt>MDVP.RAP</dt>\n",
       "\t\t<dd>'numeric'</dd>\n",
       "\t<dt>MDVP.PPQ</dt>\n",
       "\t\t<dd>'numeric'</dd>\n",
       "\t<dt>Jitter.DDP</dt>\n",
       "\t\t<dd>'numeric'</dd>\n",
       "\t<dt>MDVP.Shimmer</dt>\n",
       "\t\t<dd>'numeric'</dd>\n",
       "\t<dt>MDVP.Shimmer.dB.</dt>\n",
       "\t\t<dd>'numeric'</dd>\n",
       "\t<dt>Shimmer.APQ3</dt>\n",
       "\t\t<dd>'numeric'</dd>\n",
       "\t<dt>Shimmer.APQ5</dt>\n",
       "\t\t<dd>'numeric'</dd>\n",
       "\t<dt>MDVP.APQ</dt>\n",
       "\t\t<dd>'numeric'</dd>\n",
       "\t<dt>Shimmer.DDA</dt>\n",
       "\t\t<dd>'numeric'</dd>\n",
       "\t<dt>NHR</dt>\n",
       "\t\t<dd>'numeric'</dd>\n",
       "\t<dt>HNR</dt>\n",
       "\t\t<dd>'numeric'</dd>\n",
       "\t<dt>status</dt>\n",
       "\t\t<dd>'integer'</dd>\n",
       "\t<dt>RPDE</dt>\n",
       "\t\t<dd>'numeric'</dd>\n",
       "\t<dt>DFA</dt>\n",
       "\t\t<dd>'numeric'</dd>\n",
       "\t<dt>spread1</dt>\n",
       "\t\t<dd>'numeric'</dd>\n",
       "\t<dt>spread2</dt>\n",
       "\t\t<dd>'numeric'</dd>\n",
       "\t<dt>D2</dt>\n",
       "\t\t<dd>'numeric'</dd>\n",
       "\t<dt>PPE</dt>\n",
       "\t\t<dd>'numeric'</dd>\n",
       "</dl>\n"
      ],
      "text/latex": [
       "\\begin{description*}\n",
       "\\item[name] 'factor'\n",
       "\\item[MDVP.Fo.Hz.] 'numeric'\n",
       "\\item[MDVP.Fhi.Hz.] 'numeric'\n",
       "\\item[MDVP.Flo.Hz.] 'numeric'\n",
       "\\item[MDVP.Jitter...] 'numeric'\n",
       "\\item[MDVP.Jitter.Abs.] 'numeric'\n",
       "\\item[MDVP.RAP] 'numeric'\n",
       "\\item[MDVP.PPQ] 'numeric'\n",
       "\\item[Jitter.DDP] 'numeric'\n",
       "\\item[MDVP.Shimmer] 'numeric'\n",
       "\\item[MDVP.Shimmer.dB.] 'numeric'\n",
       "\\item[Shimmer.APQ3] 'numeric'\n",
       "\\item[Shimmer.APQ5] 'numeric'\n",
       "\\item[MDVP.APQ] 'numeric'\n",
       "\\item[Shimmer.DDA] 'numeric'\n",
       "\\item[NHR] 'numeric'\n",
       "\\item[HNR] 'numeric'\n",
       "\\item[status] 'integer'\n",
       "\\item[RPDE] 'numeric'\n",
       "\\item[DFA] 'numeric'\n",
       "\\item[spread1] 'numeric'\n",
       "\\item[spread2] 'numeric'\n",
       "\\item[D2] 'numeric'\n",
       "\\item[PPE] 'numeric'\n",
       "\\end{description*}\n"
      ],
      "text/markdown": [
       "name\n",
       ":   'factor'MDVP.Fo.Hz.\n",
       ":   'numeric'MDVP.Fhi.Hz.\n",
       ":   'numeric'MDVP.Flo.Hz.\n",
       ":   'numeric'MDVP.Jitter...\n",
       ":   'numeric'MDVP.Jitter.Abs.\n",
       ":   'numeric'MDVP.RAP\n",
       ":   'numeric'MDVP.PPQ\n",
       ":   'numeric'Jitter.DDP\n",
       ":   'numeric'MDVP.Shimmer\n",
       ":   'numeric'MDVP.Shimmer.dB.\n",
       ":   'numeric'Shimmer.APQ3\n",
       ":   'numeric'Shimmer.APQ5\n",
       ":   'numeric'MDVP.APQ\n",
       ":   'numeric'Shimmer.DDA\n",
       ":   'numeric'NHR\n",
       ":   'numeric'HNR\n",
       ":   'numeric'status\n",
       ":   'integer'RPDE\n",
       ":   'numeric'DFA\n",
       ":   'numeric'spread1\n",
       ":   'numeric'spread2\n",
       ":   'numeric'D2\n",
       ":   'numeric'PPE\n",
       ":   'numeric'\n",
       "\n"
      ],
      "text/plain": [
       "            name      MDVP.Fo.Hz.     MDVP.Fhi.Hz.     MDVP.Flo.Hz. \n",
       "        \"factor\"        \"numeric\"        \"numeric\"        \"numeric\" \n",
       "  MDVP.Jitter... MDVP.Jitter.Abs.         MDVP.RAP         MDVP.PPQ \n",
       "       \"numeric\"        \"numeric\"        \"numeric\"        \"numeric\" \n",
       "      Jitter.DDP     MDVP.Shimmer MDVP.Shimmer.dB.     Shimmer.APQ3 \n",
       "       \"numeric\"        \"numeric\"        \"numeric\"        \"numeric\" \n",
       "    Shimmer.APQ5         MDVP.APQ      Shimmer.DDA              NHR \n",
       "       \"numeric\"        \"numeric\"        \"numeric\"        \"numeric\" \n",
       "             HNR           status             RPDE              DFA \n",
       "       \"numeric\"        \"integer\"        \"numeric\"        \"numeric\" \n",
       "         spread1          spread2               D2              PPE \n",
       "       \"numeric\"        \"numeric\"        \"numeric\"        \"numeric\" "
      ]
     },
     "metadata": {},
     "output_type": "display_data"
    }
   ],
   "source": [
    "sapply(df,class)"
   ]
  },
  {
   "cell_type": "markdown",
   "metadata": {},
   "source": [
    "## Data Cleaning"
   ]
  },
  {
   "cell_type": "code",
   "execution_count": 10,
   "metadata": {},
   "outputs": [
    {
     "data": {
      "text/html": [
       "FALSE"
      ],
      "text/latex": [
       "FALSE"
      ],
      "text/markdown": [
       "FALSE"
      ],
      "text/plain": [
       "[1] FALSE"
      ]
     },
     "metadata": {},
     "output_type": "display_data"
    }
   ],
   "source": [
    "any(is.na(df))"
   ]
  },
  {
   "cell_type": "code",
   "execution_count": 11,
   "metadata": {},
   "outputs": [],
   "source": [
    "df = subset(df, select = -c(name) )\n",
    "df$status <- sapply(df$status,factor)"
   ]
  },
  {
   "cell_type": "code",
   "execution_count": 12,
   "metadata": {},
   "outputs": [
    {
     "data": {
      "text/plain": [
       "  MDVP.Fo.Hz.      MDVP.Fhi.Hz.    MDVP.Flo.Hz.    MDVP.Jitter...    \n",
       " Min.   : 88.33   Min.   :102.1   Min.   : 65.48   Min.   :0.001680  \n",
       " 1st Qu.:117.57   1st Qu.:134.9   1st Qu.: 84.29   1st Qu.:0.003460  \n",
       " Median :148.79   Median :175.8   Median :104.31   Median :0.004940  \n",
       " Mean   :154.23   Mean   :197.1   Mean   :116.32   Mean   :0.006220  \n",
       " 3rd Qu.:182.77   3rd Qu.:224.2   3rd Qu.:140.02   3rd Qu.:0.007365  \n",
       " Max.   :260.11   Max.   :592.0   Max.   :239.17   Max.   :0.033160  \n",
       " MDVP.Jitter.Abs.       MDVP.RAP           MDVP.PPQ          Jitter.DDP      \n",
       " Min.   :7.000e-06   Min.   :0.000680   Min.   :0.000920   Min.   :0.002040  \n",
       " 1st Qu.:2.000e-05   1st Qu.:0.001660   1st Qu.:0.001860   1st Qu.:0.004985  \n",
       " Median :3.000e-05   Median :0.002500   Median :0.002690   Median :0.007490  \n",
       " Mean   :4.396e-05   Mean   :0.003306   Mean   :0.003446   Mean   :0.009920  \n",
       " 3rd Qu.:6.000e-05   3rd Qu.:0.003835   3rd Qu.:0.003955   3rd Qu.:0.011505  \n",
       " Max.   :2.600e-04   Max.   :0.021440   Max.   :0.019580   Max.   :0.064330  \n",
       "  MDVP.Shimmer     MDVP.Shimmer.dB.  Shimmer.APQ3       Shimmer.APQ5    \n",
       " Min.   :0.00954   Min.   :0.0850   Min.   :0.004550   Min.   :0.00570  \n",
       " 1st Qu.:0.01650   1st Qu.:0.1485   1st Qu.:0.008245   1st Qu.:0.00958  \n",
       " Median :0.02297   Median :0.2210   Median :0.012790   Median :0.01347  \n",
       " Mean   :0.02971   Mean   :0.2823   Mean   :0.015664   Mean   :0.01788  \n",
       " 3rd Qu.:0.03789   3rd Qu.:0.3500   3rd Qu.:0.020265   3rd Qu.:0.02238  \n",
       " Max.   :0.11908   Max.   :1.3020   Max.   :0.056470   Max.   :0.07940  \n",
       "    MDVP.APQ        Shimmer.DDA           NHR                HNR        \n",
       " Min.   :0.00719   Min.   :0.01364   Min.   :0.000650   Min.   : 8.441  \n",
       " 1st Qu.:0.01308   1st Qu.:0.02474   1st Qu.:0.005925   1st Qu.:19.198  \n",
       " Median :0.01826   Median :0.03836   Median :0.011660   Median :22.085  \n",
       " Mean   :0.02408   Mean   :0.04699   Mean   :0.024847   Mean   :21.886  \n",
       " 3rd Qu.:0.02940   3rd Qu.:0.06080   3rd Qu.:0.025640   3rd Qu.:25.076  \n",
       " Max.   :0.13778   Max.   :0.16942   Max.   :0.314820   Max.   :33.047  \n",
       " status       RPDE             DFA            spread1          spread2        \n",
       " 1:147   Min.   :0.2566   Min.   :0.5743   Min.   :-7.965   Min.   :0.006274  \n",
       " 0: 48   1st Qu.:0.4213   1st Qu.:0.6748   1st Qu.:-6.450   1st Qu.:0.174350  \n",
       "         Median :0.4960   Median :0.7223   Median :-5.721   Median :0.218885  \n",
       "         Mean   :0.4985   Mean   :0.7181   Mean   :-5.684   Mean   :0.226510  \n",
       "         3rd Qu.:0.5876   3rd Qu.:0.7619   3rd Qu.:-5.046   3rd Qu.:0.279234  \n",
       "         Max.   :0.6852   Max.   :0.8253   Max.   :-2.434   Max.   :0.450493  \n",
       "       D2             PPE         \n",
       " Min.   :1.423   Min.   :0.04454  \n",
       " 1st Qu.:2.099   1st Qu.:0.13745  \n",
       " Median :2.362   Median :0.19405  \n",
       " Mean   :2.382   Mean   :0.20655  \n",
       " 3rd Qu.:2.636   3rd Qu.:0.25298  \n",
       " Max.   :3.671   Max.   :0.52737  "
      ]
     },
     "metadata": {},
     "output_type": "display_data"
    }
   ],
   "source": [
    "summary(df)"
   ]
  },
  {
   "cell_type": "code",
   "execution_count": 13,
   "metadata": {},
   "outputs": [
    {
     "name": "stderr",
     "output_type": "stream",
     "text": [
      "corrplot 0.92 loaded\n"
     ]
    }
   ],
   "source": [
    "library(corrplot)"
   ]
  },
  {
   "cell_type": "code",
   "execution_count": 14,
   "metadata": {},
   "outputs": [
    {
     "data": {
      "image/png": "[encoded data removed]",
      "text/plain": [
       "Plot with title \"\""
      ]
     },
     "metadata": {},
     "output_type": "display_data"
    }
   ],
   "source": [
    "df$status <- as.numeric(df$status)\n",
    "num.cols <- sapply(df, is.numeric)\n",
    "cor.data <- cor(df[,num.cols])\n",
    "corrplot(cor.data,method='pie')"
   ]
  },
  {
   "cell_type": "code",
   "execution_count": 15,
   "metadata": {},
   "outputs": [],
   "source": [
    "df$status <- sapply(df$status,factor)"
   ]
  },
  {
   "cell_type": "markdown",
   "metadata": {},
   "source": [
    "## Train Test Split"
   ]
  },
  {
   "cell_type": "code",
   "execution_count": 16,
   "metadata": {},
   "outputs": [
    {
     "name": "stderr",
     "output_type": "stream",
     "text": [
      "Warning message:\n",
      "\"package 'caTools' was built under R version 3.6.3\""
     ]
    }
   ],
   "source": [
    "library(caTools)"
   ]
  },
  {
   "cell_type": "code",
   "execution_count": 17,
   "metadata": {},
   "outputs": [],
   "source": [
    "set.seed(100)"
   ]
  },
  {
   "cell_type": "code",
   "execution_count": 18,
   "metadata": {},
   "outputs": [],
   "source": [
    "sample <- sample.split(df,SplitRatio = 0.75)\n",
    "train <- subset(df,sample == T)\n",
    "test <- subset(df,sample == F)"
   ]
  },
  {
   "cell_type": "code",
   "execution_count": 19,
   "metadata": {},
   "outputs": [
    {
     "data": {
      "text/html": [
       "146"
      ],
      "text/latex": [
       "146"
      ],
      "text/markdown": [
       "146"
      ],
      "text/plain": [
       "[1] 146"
      ]
     },
     "metadata": {},
     "output_type": "display_data"
    }
   ],
   "source": [
    "nrow(train)"
   ]
  },
  {
   "cell_type": "code",
   "execution_count": 20,
   "metadata": {},
   "outputs": [
    {
     "data": {
      "text/html": [
       "49"
      ],
      "text/latex": [
       "49"
      ],
      "text/markdown": [
       "49"
      ],
      "text/plain": [
       "[1] 49"
      ]
     },
     "metadata": {},
     "output_type": "display_data"
    }
   ],
   "source": [
    "nrow(test)"
   ]
  },
  {
   "cell_type": "markdown",
   "metadata": {},
   "source": [
    "## Random Forest"
   ]
  },
  {
   "cell_type": "code",
   "execution_count": 21,
   "metadata": {},
   "outputs": [
    {
     "name": "stderr",
     "output_type": "stream",
     "text": [
      "randomForest 4.6-14\n",
      "Type rfNews() to see new features/changes/bug fixes.\n"
     ]
    }
   ],
   "source": [
    "library(randomForest)"
   ]
  },
  {
   "cell_type": "code",
   "execution_count": 22,
   "metadata": {},
   "outputs": [
    {
     "name": "stderr",
     "output_type": "stream",
     "text": [
      "Loading required package: lattice\n",
      "Loading required package: ggplot2\n",
      "Registered S3 methods overwritten by 'ggplot2':\n",
      "  method         from \n",
      "  [.quosures     rlang\n",
      "  c.quosures     rlang\n",
      "  print.quosures rlang\n",
      "\n",
      "Attaching package: 'ggplot2'\n",
      "\n",
      "The following object is masked from 'package:randomForest':\n",
      "\n",
      "    margin\n",
      "\n"
     ]
    }
   ],
   "source": [
    "library(caret)"
   ]
  },
  {
   "cell_type": "code",
   "execution_count": 23,
   "metadata": {},
   "outputs": [],
   "source": [
    "model <- randomForest(status~., data = train,importance = TRUE)"
   ]
  },
  {
   "cell_type": "code",
   "execution_count": 24,
   "metadata": {},
   "outputs": [
    {
     "name": "stdout",
     "output_type": "stream",
     "text": [
      "\n",
      "Call:\n",
      " randomForest(formula = status ~ ., data = train, importance = TRUE) \n",
      "               Type of random forest: classification\n",
      "                     Number of trees: 500\n",
      "No. of variables tried at each split: 4\n",
      "\n",
      "        OOB estimate of  error rate: 13.01%\n",
      "Confusion matrix:\n",
      "    1  2 class.error\n",
      "1 103  7  0.06363636\n",
      "2  12 24  0.33333333\n"
     ]
    }
   ],
   "source": [
    "print(model)"
   ]
  },
  {
   "cell_type": "code",
   "execution_count": 25,
   "metadata": {},
   "outputs": [
    {
     "name": "stdout",
     "output_type": "stream",
     "text": [
      "Confusion Matrix and Statistics\n",
      "\n",
      "          Reference\n",
      "Prediction  1  2\n",
      "         1 36  1\n",
      "         2  1 11\n",
      "                                         \n",
      "               Accuracy : 0.9592         \n",
      "                 95% CI : (0.8602, 0.995)\n",
      "    No Information Rate : 0.7551         \n",
      "    P-Value [Acc > NIR] : 0.000148       \n",
      "                                         \n",
      "                  Kappa : 0.8896         \n",
      "                                         \n",
      " Mcnemar's Test P-Value : 1.000000       \n",
      "                                         \n",
      "            Sensitivity : 0.9730         \n",
      "            Specificity : 0.9167         \n",
      "         Pos Pred Value : 0.9730         \n",
      "         Neg Pred Value : 0.9167         \n",
      "             Prevalence : 0.7551         \n",
      "         Detection Rate : 0.7347         \n",
      "   Detection Prevalence : 0.7551         \n",
      "      Balanced Accuracy : 0.9448         \n",
      "                                         \n",
      "       'Positive' Class : 1              \n",
      "                                         \n"
     ]
    }
   ],
   "source": [
    "pre <- predict(model,test)\n",
    "eva <- confusionMatrix(data=pre, reference = test$status)\n",
    "print(eva)"
   ]
  },
  {
   "cell_type": "code",
   "execution_count": 26,
   "metadata": {},
   "outputs": [
    {
     "name": "stdout",
     "output_type": "stream",
     "text": [
      "           TrueLabels\n",
      "Predictions  1  2\n",
      "          1 36  1\n",
      "          2  1 11\n",
      "Accuracy =  0.9591837\n",
      "Precision =  0.9166667\n",
      "Recall =  0.9166667\n",
      "F1 score =  0.9166667"
     ]
    }
   ],
   "source": [
    "#Confusion Matrix\n",
    "a1 <- table(Predictions = pre, TrueLabels = test$status)\n",
    "print(a1)\n",
    "# fourfoldplot(a1, color = c(\"#CC6666\", \"#99CC99\"),conf.level = 0, margin = 1, main = \"Confusion Matrix - Train\")\n",
    "#Accuracy\n",
    "acc1 <- ( a1[2,2] + a1[1,1] ) / (length(test$status))\n",
    "cat(\"Accuracy = \",acc1 )\n",
    "#F1\n",
    "Precision1 =  a1[2,2] / ( a1[2,2] + a1[2,1] )\n",
    "cat(\"\\nPrecision = \",Precision1 )\n",
    "Recall1 =  a1[2,2] / ( a1[2,2] + a1[1,2] )\n",
    "cat(\"\\nRecall = \",Recall1 )\n",
    "F1score1  = 2*(Recall1 * Precision1) / (Recall1 + Precision1)\n",
    "cat(\"\\nF1 score = \",F1score1 )"
   ]
  },
  {
   "cell_type": "code",
   "execution_count": 27,
   "metadata": {},
   "outputs": [
    {
     "data": {
      "image/png": "[encoded data removed]",
      "text/plain": [
       "plot without title"
      ]
     },
     "metadata": {},
     "output_type": "display_data"
    }
   ],
   "source": [
    "fourfoldplot(a1, color = c(\"#CC6666\", \"#99CC99\"),conf.level = 0, margin = 1, main = \"Confusion Matrix - Logistic Regression\")"
   ]
  }
 ],
 "metadata": {
  "kernelspec": {
   "display_name": "R",
   "language": "R",
   "name": "ir"
  },
  "language_info": {
   "codemirror_mode": "r",
   "file_extension": ".r",
   "mimetype": "text/x-r-source",
   "name": "R",
   "pygments_lexer": "r",
   "version": "3.6.1"
  }
 },
 "nbformat": 4,
 "nbformat_minor": 4
}
